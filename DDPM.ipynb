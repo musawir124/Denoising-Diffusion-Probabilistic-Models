{
 "cells": [
  {
   "cell_type": "markdown",
   "id": "4ea075cc-5029-49ab-869e-6fc25517975b",
   "metadata": {},
   "source": [
    "## Implementing DDPM in PyTorch\n",
    "Let’s code a basic DDPM from scratch in PyTorch!"
   ]
  },
  {
   "cell_type": "markdown",
   "id": "f0192418-8f4d-4aab-b615-587588057aa4",
   "metadata": {},
   "source": [
    "## Import Necessary Libraries"
   ]
  },
  {
   "cell_type": "code",
   "execution_count": 8,
   "id": "b8c77633-b632-4f86-a93a-ec059894877e",
   "metadata": {},
   "outputs": [],
   "source": [
    "import torch\n",
    "import torch.nn as nn\n",
    "import torch.optim as optim\n",
    "import torch.nn.functional as F\n",
    "from torchvision import datasets, transforms\n",
    "from torch.utils.data import DataLoader\n",
    "import matplotlib.pyplot as plt\n",
    "\n"
   ]
  },
  {
   "cell_type": "markdown",
   "id": "8d6408cc-961f-4b92-8b8c-4de83d71f2cd",
   "metadata": {},
   "source": [
    "## Define the Diffusion Model"
   ]
  },
  {
   "cell_type": "code",
   "execution_count": 9,
   "id": "97e26330-2789-4e26-94b0-631703715a09",
   "metadata": {},
   "outputs": [],
   "source": [
    "class SimpleDiffusionModel(nn.Module):\n",
    "    def __init__(self):\n",
    "        super(SimpleDiffusionModel, self).__init__()\n",
    "        self.encoder = nn.Sequential(\n",
    "            nn.Conv2d(1, 32, 3, padding=1),\n",
    "            nn.ReLU(),\n",
    "            nn.Conv2d(32, 64, 3, padding=1),\n",
    "            nn.ReLU()\n",
    "        )\n",
    "        self.decoder = nn.Sequential(\n",
    "            nn.ConvTranspose2d(64, 32, 3, padding=1),\n",
    "            nn.ReLU(),\n",
    "            nn.ConvTranspose2d(32, 1, 3, padding=1),\n",
    "            nn.Sigmoid()\n",
    "        )\n",
    "\n",
    "    def forward(self, x):\n",
    "        x = self.encoder(x)\n",
    "        x = self.decoder(x)\n",
    "        return x\n",
    "\n"
   ]
  },
  {
   "cell_type": "code",
   "execution_count": null,
   "id": "0c9cd5d3-1430-4e10-bd17-5f19b4869bde",
   "metadata": {},
   "outputs": [],
   "source": []
  },
  {
   "cell_type": "markdown",
   "id": "03a6afe9-aa02-4160-8c88-ce114dae5b19",
   "metadata": {},
   "source": [
    "## Prepare Dataset (MNIST)"
   ]
  },
  {
   "cell_type": "code",
   "execution_count": 10,
   "id": "78cfea32-27df-454f-a01e-657affb856e3",
   "metadata": {},
   "outputs": [
    {
     "name": "stderr",
     "output_type": "stream",
     "text": [
      "100%|██████████████████████████████████████████████████████████████████████████████| 9.91M/9.91M [00:18<00:00, 536kB/s]\n",
      "100%|█████████████████████████████████████████████████████████████████████████████| 28.9k/28.9k [00:00<00:00, 67.7kB/s]\n",
      "100%|█████████████████████████████████████████████████████████████████████████████| 1.65M/1.65M [00:17<00:00, 94.4kB/s]\n",
      "100%|██████████████████████████████████████████████████████████████████████████████| 4.54k/4.54k [00:00<00:00, 397kB/s]\n"
     ]
    }
   ],
   "source": [
    "transform = transforms.Compose([\n",
    "    transforms.ToTensor(),\n",
    "    transforms.Normalize((0.5,), (0.5,))\n",
    "])\n",
    "\n",
    "train_dataset = datasets.MNIST(root='./data', train=True, transform=transform, download=True)\n",
    "train_loader = DataLoader(train_dataset, batch_size=64, shuffle=True)\n",
    "\n"
   ]
  },
  {
   "cell_type": "markdown",
   "id": "a1d0880e-f92a-4194-9bc7-68c2d4971753",
   "metadata": {},
   "source": [
    "## Define Noise Schedule & Forward Diffusion Process"
   ]
  },
  {
   "cell_type": "code",
   "execution_count": 11,
   "id": "cd3cd0e0-b085-4b71-9be3-fc1cb9861e3a",
   "metadata": {},
   "outputs": [],
   "source": [
    "def add_noise(images, noise_level=0.5):\n",
    "    noise = torch.randn_like(images) * noise_level\n",
    "    return images + noise\n",
    "\n"
   ]
  },
  {
   "cell_type": "markdown",
   "id": "e862e851-0d4a-4b89-80e2-b48c1be43115",
   "metadata": {},
   "source": [
    "## Train the Diffusion Model"
   ]
  },
  {
   "cell_type": "code",
   "execution_count": null,
   "id": "3190a042-631c-48d5-808b-57956c88c22f",
   "metadata": {},
   "outputs": [],
   "source": []
  },
  {
   "cell_type": "code",
   "execution_count": 12,
   "id": "d68c93b4-b61c-4ce9-9217-d7daeddade3b",
   "metadata": {},
   "outputs": [
    {
     "name": "stdout",
     "output_type": "stream",
     "text": [
      "Epoch [1/5], Loss: 0.8375\n",
      "Epoch [2/5], Loss: 0.8345\n",
      "Epoch [3/5], Loss: 0.8551\n",
      "Epoch [4/5], Loss: 0.8354\n",
      "Epoch [5/5], Loss: 0.8418\n"
     ]
    }
   ],
   "source": [
    "device = torch.device(\"cuda\" if torch.cuda.is_available() else \"cpu\")\n",
    "model = SimpleDiffusionModel().to(device)\n",
    "optimizer = optim.Adam(model.parameters(), lr=0.001)\n",
    "criterion = nn.MSELoss()\n",
    "\n",
    "num_epochs = 5\n",
    "\n",
    "for epoch in range(num_epochs):\n",
    "    for images, _ in train_loader:\n",
    "        images = images.to(device)\n",
    "        noisy_images = add_noise(images)\n",
    "        \n",
    "        optimizer.zero_grad()\n",
    "        output = model(noisy_images)\n",
    "        \n",
    "        loss = criterion(output, images)\n",
    "        loss.backward()\n",
    "        optimizer.step()\n",
    "\n",
    "    print(f\"Epoch [{epoch+1}/{num_epochs}], Loss: {loss.item():.4f}\")\n",
    "\n",
    "# Save trained model\n",
    "torch.save(model.state_dict(), \"diffusion_model.pth\")\n",
    "\n"
   ]
  },
  {
   "cell_type": "markdown",
   "id": "4b9b62f0-26fa-4933-93c2-84b9992ec97f",
   "metadata": {},
   "source": [
    "## Generate New Images"
   ]
  },
  {
   "cell_type": "code",
   "execution_count": 13,
   "id": "6fea1bb5-41dc-4a49-8e21-c803f31d27a4",
   "metadata": {},
   "outputs": [
    {
     "data": {
      "image/png": "[encoded data removed]",
      "text/plain": [
       "<Figure size 640x480 with 1 Axes>"
      ]
     },
     "metadata": {},
     "output_type": "display_data"
    }
   ],
   "source": [
    "def generate_images(model, noise_level=0.5):\n",
    "    model.eval()\n",
    "    noise = torch.randn((1, 1, 28, 28)).to(device)\n",
    "    with torch.no_grad():\n",
    "        denoised_image = model(noise)\n",
    "    return denoised_image\n",
    "\n",
    "# Load Model\n",
    "model.load_state_dict(torch.load(\"diffusion_model.pth\"))\n",
    "model.to(device)\n",
    "\n",
    "# Generate Image\n",
    "generated_img = generate_images(model).cpu().squeeze().numpy()\n",
    "\n",
    "plt.imshow(generated_img, cmap=\"gray\")\n",
    "plt.show()\n",
    "\n"
   ]
  },
  {
   "cell_type": "markdown",
   "id": "f7ae0b1f-a618-404c-b84d-c4c2745689f8",
   "metadata": {},
   "source": [
    "## 🎯 Final Summary\n",
    "#### Defined a simple U-Net model for denoising.\n",
    "\n",
    "#### Added noise to images and trained the model.\n",
    "\n",
    "#### Saved the trained model for future use.\n",
    "\n",
    "#### Generated new images by reversing the noise process.\n"
   ]
  },
  {
   "cell_type": "code",
   "execution_count": null,
   "id": "4733600a-caae-4748-bb64-37770b173716",
   "metadata": {},
   "outputs": [],
   "source": []
  }
 ],
 "metadata": {
  "kernelspec": {
   "display_name": "Python 3 (ipykernel)",
   "language": "python",
   "name": "python3"
  },
  "language_info": {
   "codemirror_mode": {
    "name": "ipython",
    "version": 3
   },
   "file_extension": ".py",
   "mimetype": "text/x-python",
   "name": "python",
   "nbconvert_exporter": "python",
   "pygments_lexer": "ipython3",
   "version": "3.12.5"
  }
 },
 "nbformat": 4,
 "nbformat_minor": 5
}
